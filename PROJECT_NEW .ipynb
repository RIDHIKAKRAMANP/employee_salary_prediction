{
  "nbformat": 4,
  "nbformat_minor": 0,
  "metadata": {
    "colab": {
      "provenance": [],
      "authorship_tag": "ABX9TyNPOl657xD5FN5gLDfxZaVJ",
      "include_colab_link": true
    },
    "kernelspec": {
      "name": "python3",
      "display_name": "Python 3"
    },
    "language_info": {
      "name": "python"
    }
  },
  "cells": [
    {
      "cell_type": "markdown",
      "metadata": {
        "id": "view-in-github",
        "colab_type": "text"
      },
      "source": [
        "<a href=\"https://colab.research.google.com/github/RIDHIKAKRAMANP/employee_salary_prediction/blob/main/PROJECT_NEW%20.ipynb\" target=\"_parent\"><img src=\"https://colab.research.google.com/assets/colab-badge.svg\" alt=\"Open In Colab\"/></a>"
      ]
    },
    {
      "cell_type": "code",
      "source": [
        "\n",
        "# !pip install scikit-learn pandas\n",
        "\n",
        "import pandas as pd\n",
        "from sklearn.model_selection import train_test_split\n",
        "from sklearn.preprocessing import OneHotEncoder, StandardScaler\n",
        "from sklearn.compose import ColumnTransformer\n",
        "from sklearn.pipeline import Pipeline\n",
        "from sklearn.ensemble import RandomForestRegressor\n",
        "from google.colab import widgets\n",
        "\n",
        "class SalaryPredictor:\n",
        "    def __init__(self, data):\n",
        "        self.data = data\n",
        "        self.model = None\n",
        "        self._prepare_model()\n",
        "\n",
        "    def _prepare_model(self):\n",
        "        X = self.data.drop('Salary', axis=1)\n",
        "        y = self.data['Salary']\n",
        "\n",
        "        categorical_cols = ['Education', 'Job_Role', 'Location']\n",
        "        numerical_cols = ['Experience']\n",
        "\n",
        "        preprocessor = ColumnTransformer([\n",
        "            ('num', StandardScaler(), numerical_cols),\n",
        "            ('cat', OneHotEncoder(), categorical_cols)\n",
        "        ])\n",
        "\n",
        "        pipeline = Pipeline([\n",
        "            ('preprocessor', preprocessor),\n",
        "            ('regressor', RandomForestRegressor(n_estimators=100, random_state=42))\n",
        "        ])\n",
        "\n",
        "        pipeline.fit(X, y)\n",
        "        self.model = pipeline\n",
        "\n",
        "    def predict(self, experience, education, job_role, location):\n",
        "        input_df = pd.DataFrame([{\n",
        "            'Experience': experience,\n",
        "            'Education': education,\n",
        "            'Job_Role': job_role,\n",
        "            'Location': location\n",
        "        }])\n",
        "        prediction = self.model.predict(input_df)[0]\n",
        "        return round(prediction, 2)\n",
        "\n",
        "\n",
        "\n",
        "sample_data = pd.DataFrame({\n",
        "    'Experience': [1, 3, 5, 7, 10, 2, 6, 8, 4, 9],\n",
        "    'Education': ['Bachelors', 'Masters', 'PhD', 'Bachelors', 'Masters', 'PhD', 'Bachelors', 'Masters', 'PhD', 'Masters'],\n",
        "    'Job_Role': ['Data Analyst', 'Data Scientist', 'ML Engineer', 'Software Dev', 'Data Analyst',\n",
        "                 'Software Dev', 'ML Engineer', 'Data Scientist', 'Data Analyst', 'ML Engineer'],\n",
        "    'Location': ['Delhi', 'Mumbai', 'Bangalore', 'Chennai', 'Delhi', 'Mumbai', 'Chennai', 'Bangalore', 'Delhi', 'Mumbai'],\n",
        "    'Salary': [400000, 700000, 1200000, 850000, 650000, 800000, 1100000, 1300000, 600000, 1250000]\n",
        "})\n",
        "\n",
        "predictor = SalaryPredictor(sample_data)\n",
        "\n",
        "# Interactive input in Colab\n",
        "exp = int(input(\"Enter years of experience: \"))\n",
        "edu = input(\"Enter education level (e.g., Bachelors, Masters, PhD): \")\n",
        "role = input(\"Enter job role (e.g., Data Analyst, ML Engineer, Software Dev): \")\n",
        "loc = input(\"Enter location (e.g., Delhi, Mumbai, Bangalore, Chennai): \")\n",
        "\n",
        "predicted_salary = predictor.predict(exp, edu, role, loc)\n",
        "print(f\"💸 Predicted Salary: ₹{predicted_salary}\")"
      ],
      "metadata": {
        "id": "qzEuhprYjk-8"
      },
      "execution_count": null,
      "outputs": []
    }
  ]
}